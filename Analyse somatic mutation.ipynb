{
  "nbformat": 4,
  "nbformat_minor": 0,
  "metadata": {
    "colab": {
      "name": "Project- May 21.ipynb",
      "provenance": [],
      "collapsed_sections": []
    },
    "kernelspec": {
      "display_name": "Python 3",
      "language": "python",
      "name": "python3"
    },
    "language_info": {
      "codemirror_mode": {
        "name": "ipython",
        "version": 3
      },
      "file_extension": ".py",
      "mimetype": "text/x-python",
      "name": "python",
      "nbconvert_exporter": "python",
      "pygments_lexer": "ipython3",
      "version": "3.8.5"
    },
    "accelerator": "GPU"
  },
  "cells": [
    {
      "cell_type": "code",
      "metadata": {
        "colab": {
          "base_uri": "https://localhost:8080/"
        },
        "id": "zQjZDAkXTtK8",
        "outputId": "f8a59091-7223-4d7a-bab2-6cbf912158be"
      },
      "source": [
        "import pandas as pd\n",
        "import seaborn as sns\n",
        "import matplotlib.pyplot as plt\n",
        "from  sklearn.preprocessing import StandardScaler\n",
        "from  sklearn.decomposition import PCA\n",
        "from sklearn.manifold import TSNE\n",
        "import numpy as np\n",
        "from sklearn.model_selection import train_test_split\n",
        "from sklearn import svm \n",
        "from google.colab import drive\n",
        "drive.mount('/content/drive')"
      ],
      "execution_count": null,
      "outputs": [
        {
          "output_type": "stream",
          "text": [
            "Mounted at /content/drive\n"
          ],
          "name": "stdout"
        }
      ]
    },
    {
      "cell_type": "markdown",
      "metadata": {
        "id": "bBjGHd8V3paK"
      },
      "source": [
        "# **1. Reading Somatic Mutation Matrix**"
      ]
    },
    {
      "cell_type": "code",
      "metadata": {
        "id": "Dxt4jpX6TtLD"
      },
      "source": [
        "data=pd.read_csv('/content/drive/MyDrive/Madonna/SomaticPointMutationMatrix.csv',index_col=[0]) # here we make first col of data as index col of the data \n",
        "\n",
        "#data=pd.read_csv('SomaticPointMutationMatrix.csv',index_col=[0])\n",
        "#SomaticPointMutationMatrix.csv"
      ],
      "execution_count": null,
      "outputs": []
    },
    {
      "cell_type": "code",
      "metadata": {
        "colab": {
          "base_uri": "https://localhost:8080/"
        },
        "id": "kI1fJYRjTtLE",
        "outputId": "7920ffba-e000-478b-e053-44307f9ea0bd"
      },
      "source": [
        "#print(data)\n",
        "data.shape"
      ],
      "execution_count": null,
      "outputs": [
        {
          "output_type": "execute_result",
          "data": {
            "text/plain": [
              "(6640, 7674)"
            ]
          },
          "metadata": {
            "tags": []
          },
          "execution_count": 3
        }
      ]
    },
    {
      "cell_type": "code",
      "metadata": {
        "id": "UkLY9suBTtLH"
      },
      "source": [
        "import matplotlib.pyplot as plt\n",
        "import numpy as np\n",
        "import pandas as pd\n",
        "import seaborn as sns\n",
        "import warnings\n",
        "from sklearn.decomposition import PCA\n",
        "from sklearn.feature_selection import RFE\n",
        "from sklearn.feature_selection import RFECV\n",
        "from sklearn.feature_selection import SelectKBest, chi2\n",
        "from sklearn.linear_model import LogisticRegression\n",
        "from sklearn.metrics import accuracy_score, f1_score\n",
        "from sklearn.metrics import f1_score,confusion_matrix\n",
        "from sklearn.model_selection import train_test_split"
      ],
      "execution_count": null,
      "outputs": []
    },
    {
      "cell_type": "code",
      "metadata": {
        "id": "wj6M0TuHTtLH"
      },
      "source": [
        "target = 'classLabels'"
      ],
      "execution_count": null,
      "outputs": []
    },
    {
      "cell_type": "code",
      "metadata": {
        "colab": {
          "base_uri": "https://localhost:8080/"
        },
        "id": "Yxku2CphTtLI",
        "outputId": "addfe512-5953-4775-d8a4-de77dd3d8ad6"
      },
      "source": [
        "numerical_feature_columns = list(data._get_numeric_data().columns)\n",
        "numerical_feature_columns"
      ],
      "execution_count": null,
      "outputs": [
        {
          "output_type": "execute_result",
          "data": {
            "text/plain": [
              "['A1CF',\n",
              " 'A2M',\n",
              " 'A2ML1',\n",
              " 'A4GNT',\n",
              " 'AADAC',\n",
              " 'AADACL2',\n",
              " 'AADACL4',\n",
              " 'AAK1',\n",
              " 'AAMP',\n",
              " 'AARS',\n",
              " 'AARS2',\n",
              " 'AASDH',\n",
              " 'AASS',\n",
              " 'AATF',\n",
              " 'AATK',\n",
              " 'ABCA1',\n",
              " 'ABCA12',\n",
              " 'ABCA13',\n",
              " 'ABCA2',\n",
              " 'ABCA3',\n",
              " 'ABCA4',\n",
              " 'ABCA9',\n",
              " 'ABCB1',\n",
              " 'ABCB10',\n",
              " 'ABCB11',\n",
              " 'ABCB4',\n",
              " 'ABCB7',\n",
              " 'ABCC1',\n",
              " 'ABCC10',\n",
              " 'ABCC2',\n",
              " 'ABCC3',\n",
              " 'ABCC4',\n",
              " 'ABCC5',\n",
              " 'ABCC6',\n",
              " 'ABCC8',\n",
              " 'ABCC9',\n",
              " 'ABCD1',\n",
              " 'ABCD2',\n",
              " 'ABCE1',\n",
              " 'ABCF3',\n",
              " 'ABCG4',\n",
              " 'ABCG8',\n",
              " 'ABHD1',\n",
              " 'ABHD10',\n",
              " 'ABHD14A',\n",
              " 'ABHD4',\n",
              " 'ABHD8',\n",
              " 'ABI1',\n",
              " 'ABL1',\n",
              " 'ABL2',\n",
              " 'ABRA',\n",
              " 'ABT1',\n",
              " 'ABTB1',\n",
              " 'ACADL',\n",
              " 'ACADS',\n",
              " 'ACAN',\n",
              " 'ACBD3',\n",
              " 'ACBD5',\n",
              " 'ACCSL',\n",
              " 'ACD',\n",
              " 'ACE',\n",
              " 'ACE2',\n",
              " 'ACER1',\n",
              " 'ACIN1',\n",
              " 'ACKR1',\n",
              " 'ACKR3',\n",
              " 'ACLY',\n",
              " 'ACO1',\n",
              " 'ACOT12',\n",
              " 'ACOT4',\n",
              " 'ACOT6',\n",
              " 'ACOX3',\n",
              " 'ACOXL',\n",
              " 'ACP6',\n",
              " 'ACP7',\n",
              " 'ACPP',\n",
              " 'ACPT',\n",
              " 'ACR',\n",
              " 'ACRBP',\n",
              " 'ACRC',\n",
              " 'ACSBG1',\n",
              " 'ACSBG2',\n",
              " 'ACSL3',\n",
              " 'ACSL6',\n",
              " 'ACSM1',\n",
              " 'ACSM2B',\n",
              " 'ACSM4',\n",
              " 'ACSM6',\n",
              " 'ACTA1',\n",
              " 'ACTB',\n",
              " 'ACTG1',\n",
              " 'ACTL10',\n",
              " 'ACTL6B',\n",
              " 'ACTL7A',\n",
              " 'ACTL7B',\n",
              " 'ACTL8',\n",
              " 'ACTL9',\n",
              " 'ACTN1',\n",
              " 'ACTN2',\n",
              " 'ACTR10',\n",
              " 'ACTR5',\n",
              " 'ACTRT1',\n",
              " 'ACTRT2',\n",
              " 'ACVR1',\n",
              " 'ACVR1B',\n",
              " 'ACVR2A',\n",
              " 'ACVRL1',\n",
              " 'ACY1',\n",
              " 'ACY3',\n",
              " 'ADA',\n",
              " 'ADAD1',\n",
              " 'ADAD2',\n",
              " 'ADAM11',\n",
              " 'ADAM15',\n",
              " 'ADAM18',\n",
              " 'ADAM2',\n",
              " 'ADAM20',\n",
              " 'ADAM21',\n",
              " 'ADAM22',\n",
              " 'ADAM29',\n",
              " 'ADAM30',\n",
              " 'ADAM7',\n",
              " 'ADAMDEC1',\n",
              " 'ADAMTS10',\n",
              " 'ADAMTS12',\n",
              " 'ADAMTS13',\n",
              " 'ADAMTS14',\n",
              " 'ADAMTS16',\n",
              " 'ADAMTS19',\n",
              " 'ADAMTS2',\n",
              " 'ADAMTS20',\n",
              " 'ADAMTS3',\n",
              " 'ADAMTS6',\n",
              " 'ADAMTS7',\n",
              " 'ADAMTS8',\n",
              " 'ADAMTS9',\n",
              " 'ADAMTSL1',\n",
              " 'ADAMTSL3',\n",
              " 'ADARB2',\n",
              " 'ADAT3',\n",
              " 'ADCK2',\n",
              " 'ADCK5',\n",
              " 'ADCY10',\n",
              " 'ADCY3',\n",
              " 'ADCY5',\n",
              " 'ADCY8',\n",
              " 'ADCY9',\n",
              " 'ADGB',\n",
              " 'ADGRA2',\n",
              " 'ADGRB1',\n",
              " 'ADGRB2',\n",
              " 'ADGRB3',\n",
              " 'ADGRD2',\n",
              " 'ADGRE1',\n",
              " 'ADGRE3',\n",
              " 'ADGRE5',\n",
              " 'ADGRF2',\n",
              " 'ADGRF4',\n",
              " 'ADGRF5',\n",
              " 'ADGRG4',\n",
              " 'ADGRG7',\n",
              " 'ADGRL1',\n",
              " 'ADGRL2',\n",
              " 'ADGRL3',\n",
              " 'ADGRL4',\n",
              " 'ADGRV1',\n",
              " 'ADH1A',\n",
              " 'ADH1C',\n",
              " 'ADH4',\n",
              " 'ADH6',\n",
              " 'ADH7',\n",
              " 'ADO',\n",
              " 'ADORA1',\n",
              " 'ADORA2A',\n",
              " 'ADORA2B',\n",
              " 'ADORA3',\n",
              " 'ADPRHL2',\n",
              " 'ADPRM',\n",
              " 'ADRA1D',\n",
              " 'ADRA2B',\n",
              " 'ADRA2C',\n",
              " 'ADRB2',\n",
              " 'ADSS',\n",
              " 'AEBP1',\n",
              " 'AFAP1L2',\n",
              " 'AFF1',\n",
              " 'AFF2',\n",
              " 'AFF3',\n",
              " 'AFF4',\n",
              " 'AFM',\n",
              " 'AFP',\n",
              " 'AFTPH',\n",
              " 'AGA',\n",
              " 'AGAP1',\n",
              " 'AGAP10P',\n",
              " 'AGAP2',\n",
              " 'AGAP3',\n",
              " 'AGAP6',\n",
              " 'AGAP7P',\n",
              " 'AGBL1',\n",
              " 'AGBL5',\n",
              " 'AGER',\n",
              " 'AGGF1',\n",
              " 'AGL',\n",
              " 'AGMO',\n",
              " 'AGPAT1',\n",
              " 'AGPAT2',\n",
              " 'AGR3',\n",
              " 'AGRN',\n",
              " 'AGT',\n",
              " 'AGTR1',\n",
              " 'AGXT2',\n",
              " 'AHCTF1',\n",
              " 'AHCY',\n",
              " 'AHNAK',\n",
              " 'AHNAK2',\n",
              " 'AHSP',\n",
              " 'AICDA',\n",
              " 'AIM1',\n",
              " 'AIM2',\n",
              " 'AJAP1',\n",
              " 'AJUBA',\n",
              " 'AK2',\n",
              " 'AK7',\n",
              " 'AK8',\n",
              " 'AK9',\n",
              " 'AKAP17A',\n",
              " 'AKAP3',\n",
              " 'AKAP4',\n",
              " 'AKAP6',\n",
              " 'AKAP8',\n",
              " 'AKAP9',\n",
              " 'AKNAD1',\n",
              " 'AKR1B15',\n",
              " 'AKR1C1',\n",
              " 'AKR1C2',\n",
              " 'AKR1C3',\n",
              " 'AKR1C4',\n",
              " 'AKR7A3',\n",
              " 'AKT1',\n",
              " 'AKT1S1',\n",
              " 'AKT2',\n",
              " 'AKT3',\n",
              " 'ALAS1',\n",
              " 'ALAS2',\n",
              " 'ALB',\n",
              " 'ALDH1A1',\n",
              " 'ALDH1B1',\n",
              " 'ALDH2',\n",
              " 'ALDH3A1',\n",
              " 'ALDH3B2',\n",
              " 'ALDH4A1',\n",
              " 'ALDH8A1',\n",
              " 'ALDOB',\n",
              " 'ALDOC',\n",
              " 'ALG10B',\n",
              " 'ALG13',\n",
              " 'ALG1L',\n",
              " 'ALG3',\n",
              " 'ALK',\n",
              " 'ALKBH7',\n",
              " 'ALLC',\n",
              " 'ALMS1',\n",
              " 'ALOX12',\n",
              " 'ALOX12B',\n",
              " 'ALOX15',\n",
              " 'ALOXE3',\n",
              " 'ALPK1',\n",
              " 'ALPK2',\n",
              " 'ALPK3',\n",
              " 'ALPL',\n",
              " 'ALPP',\n",
              " 'ALPPL2',\n",
              " 'ALS2',\n",
              " 'ALX1',\n",
              " 'ALX3',\n",
              " 'ALYREF',\n",
              " 'AMBN',\n",
              " 'AMD1',\n",
              " 'AMDHD1',\n",
              " 'AMDHD2',\n",
              " 'AMELX',\n",
              " 'AMER1',\n",
              " 'AMH',\n",
              " 'AMHR2',\n",
              " 'AMMECR1',\n",
              " 'AMPD1',\n",
              " 'AMPD2',\n",
              " 'AMTN',\n",
              " 'AMY1B',\n",
              " 'AMY1C',\n",
              " 'AMY2A',\n",
              " 'AMY2B',\n",
              " 'ANAPC1',\n",
              " 'ANAPC7',\n",
              " 'ANGPT4',\n",
              " 'ANGPTL1',\n",
              " 'ANGPTL5',\n",
              " 'ANGPTL6',\n",
              " 'ANGPTL8',\n",
              " 'ANK1',\n",
              " 'ANK2',\n",
              " 'ANK3',\n",
              " 'ANKK1',\n",
              " 'ANKLE1',\n",
              " 'ANKMY1',\n",
              " 'ANKRD1',\n",
              " 'ANKRD11',\n",
              " 'ANKRD12',\n",
              " 'ANKRD2',\n",
              " 'ANKRD20A4',\n",
              " 'ANKRD24',\n",
              " 'ANKRD27',\n",
              " 'ANKRD30A',\n",
              " 'ANKRD30B',\n",
              " 'ANKRD30BL',\n",
              " 'ANKRD35',\n",
              " 'ANKRD36',\n",
              " 'ANKRD36C',\n",
              " 'ANKRD55',\n",
              " 'ANKRD60',\n",
              " 'ANKRD7',\n",
              " 'ANKS1B',\n",
              " 'ANKUB1',\n",
              " 'ANO10',\n",
              " 'ANO2',\n",
              " 'ANO3',\n",
              " 'ANO4',\n",
              " 'ANO8',\n",
              " 'ANO9',\n",
              " 'ANP32D',\n",
              " 'ANP32E',\n",
              " 'ANPEP',\n",
              " 'ANTXR1',\n",
              " 'ANTXRL',\n",
              " 'ANXA1',\n",
              " 'ANXA10',\n",
              " 'ANXA13',\n",
              " 'ANXA7',\n",
              " 'ANXA9',\n",
              " 'AOAH',\n",
              " 'AOC2',\n",
              " 'AOX1',\n",
              " 'AP1B1',\n",
              " 'AP1M2',\n",
              " 'AP1S1',\n",
              " 'AP2B1',\n",
              " 'AP3B1',\n",
              " 'AP3S1',\n",
              " 'AP5S1',\n",
              " 'AP5Z1',\n",
              " 'APAF1',\n",
              " 'APBB1',\n",
              " 'APBB3',\n",
              " 'APC',\n",
              " 'APC2',\n",
              " 'APCDD1',\n",
              " 'APCS',\n",
              " 'APEX1',\n",
              " 'APH1A',\n",
              " 'APLNR',\n",
              " 'APOA1',\n",
              " 'APOA1BP',\n",
              " 'APOA2',\n",
              " 'APOA4',\n",
              " 'APOA5',\n",
              " 'APOB',\n",
              " 'APOBEC1',\n",
              " 'APOBEC3A',\n",
              " 'APOBEC3B',\n",
              " 'APOBEC3H',\n",
              " 'APOBEC4',\n",
              " 'APOBR',\n",
              " 'APOD',\n",
              " 'APOE',\n",
              " 'APOF',\n",
              " 'APOH',\n",
              " 'APOL2',\n",
              " 'APOL5',\n",
              " 'APOLD1',\n",
              " 'APPL2',\n",
              " 'AQP10',\n",
              " 'AQP12A',\n",
              " 'AQP3',\n",
              " 'AQP5',\n",
              " 'AQP7',\n",
              " 'AQP8',\n",
              " 'AR',\n",
              " 'ARAF',\n",
              " 'ARAP2',\n",
              " 'ARAP3',\n",
              " 'ARCN1',\n",
              " 'AREG',\n",
              " 'ARFGAP3',\n",
              " 'ARFGEF2',\n",
              " 'ARFIP2',\n",
              " 'ARFRP1',\n",
              " 'ARGFX',\n",
              " 'ARHGAP11A',\n",
              " 'ARHGAP24',\n",
              " 'ARHGAP26',\n",
              " 'ARHGAP32',\n",
              " 'ARHGAP33',\n",
              " 'ARHGAP35',\n",
              " 'ARHGAP36',\n",
              " 'ARHGAP5',\n",
              " 'ARHGEF10L',\n",
              " 'ARHGEF11',\n",
              " 'ARHGEF12',\n",
              " 'ARHGEF15',\n",
              " 'ARHGEF17',\n",
              " 'ARHGEF18',\n",
              " 'ARHGEF2',\n",
              " 'ARHGEF25',\n",
              " 'ARHGEF40',\n",
              " 'ARID1A',\n",
              " 'ARID1B',\n",
              " 'ARID2',\n",
              " 'ARID3A',\n",
              " 'ARID3C',\n",
              " 'ARID5B',\n",
              " 'ARIH2OS',\n",
              " 'ARL11',\n",
              " 'ARL13A',\n",
              " 'ARL13B',\n",
              " 'ARL16',\n",
              " 'ARL6',\n",
              " 'ARL9',\n",
              " 'ARMC12',\n",
              " 'ARMC2',\n",
              " 'ARMC4',\n",
              " 'ARMC5',\n",
              " 'ARMCX1',\n",
              " 'ARMCX2',\n",
              " 'ARMT1',\n",
              " 'ARNT',\n",
              " 'ARPC2',\n",
              " 'ARPP21',\n",
              " 'ARRDC4',\n",
              " 'ARSE',\n",
              " 'ARSF',\n",
              " 'ARSH',\n",
              " 'ARSK',\n",
              " 'ART1',\n",
              " 'ARVCF',\n",
              " 'ARX',\n",
              " 'ASAH2B',\n",
              " 'ASAP1',\n",
              " 'ASB10',\n",
              " 'ASB12',\n",
              " 'ASB16',\n",
              " 'ASB17',\n",
              " 'ASB5',\n",
              " 'ASB6',\n",
              " 'ASB9',\n",
              " 'ASCC3',\n",
              " 'ASCL3',\n",
              " 'ASCL4',\n",
              " 'ASH1L',\n",
              " 'ASH2L',\n",
              " 'ASIC5',\n",
              " 'ASMTL',\n",
              " 'ASNA1',\n",
              " 'ASPDH',\n",
              " 'ASPM',\n",
              " 'ASPN',\n",
              " 'ASPRV1',\n",
              " 'ASPSCR1',\n",
              " 'ASTE1',\n",
              " 'ASTL',\n",
              " 'ASTN1',\n",
              " 'ASTN2',\n",
              " 'ASXL1',\n",
              " 'ASXL2',\n",
              " 'ASXL3',\n",
              " 'ASZ1',\n",
              " 'ATAD2',\n",
              " 'ATAD3C',\n",
              " 'ATAD5',\n",
              " 'ATF1',\n",
              " 'ATF7IP',\n",
              " 'ATF7IP2',\n",
              " 'ATG101',\n",
              " 'ATG16L1',\n",
              " 'ATG2A',\n",
              " 'ATG4D',\n",
              " 'ATG5',\n",
              " 'ATIC',\n",
              " 'ATM',\n",
              " 'ATMIN',\n",
              " 'ATN1',\n",
              " 'ATOH1',\n",
              " 'ATOH8',\n",
              " 'ATP10A',\n",
              " 'ATP10B',\n",
              " 'ATP10D',\n",
              " 'ATP12A',\n",
              " 'ATP13A4',\n",
              " 'ATP13A5',\n",
              " 'ATP1A1',\n",
              " 'ATP1A2',\n",
              " 'ATP1A4',\n",
              " 'ATP1B1',\n",
              " 'ATP1B4',\n",
              " 'ATP2A1',\n",
              " 'ATP2B3',\n",
              " 'ATP2B4',\n",
              " 'ATP2C1',\n",
              " 'ATP2C2',\n",
              " 'ATP4A',\n",
              " 'ATP4B',\n",
              " 'ATP5B',\n",
              " 'ATP6AP1',\n",
              " 'ATP6V0A4',\n",
              " 'ATP6V0D2',\n",
              " 'ATP6V1A',\n",
              " 'ATP6V1B1',\n",
              " 'ATP6V1C2',\n",
              " 'ATP6V1F',\n",
              " 'ATP6V1G3',\n",
              " 'ATP8B2',\n",
              " 'ATP8B3',\n",
              " 'ATP9B',\n",
              " 'ATR',\n",
              " 'ATRX',\n",
              " 'ATXN1',\n",
              " 'ATXN3',\n",
              " 'ATXN3L',\n",
              " 'AURKA',\n",
              " 'AURKB',\n",
              " 'AURKC',\n",
              " 'AVIL',\n",
              " 'AVL9',\n",
              " 'AVP',\n",
              " 'AVPI1',\n",
              " 'AVPR1A',\n",
              " 'AVPR1B',\n",
              " 'AWAT1',\n",
              " 'AXDND1',\n",
              " 'AXIN1',\n",
              " 'AXIN2',\n",
              " 'AXL',\n",
              " 'AZGP1',\n",
              " 'AZU1',\n",
              " 'B2M',\n",
              " 'B3GALT4',\n",
              " 'B3GALT5',\n",
              " 'B3GNT3',\n",
              " 'B3GNT6',\n",
              " 'B3GNT8',\n",
              " 'B4GALNT2',\n",
              " 'B4GALNT4',\n",
              " 'B4GALT3',\n",
              " 'B4GAT1',\n",
              " 'B9D2',\n",
              " 'BAAT',\n",
              " 'BACH1',\n",
              " 'BAD',\n",
              " 'BAG5',\n",
              " 'BAG6',\n",
              " 'BAGE2',\n",
              " 'BAIAP2L2',\n",
              " 'BAIAP3',\n",
              " 'BAP1',\n",
              " 'BARD1',\n",
              " 'BARHL2',\n",
              " 'BAX',\n",
              " 'BAZ1B',\n",
              " 'BBC3',\n",
              " 'BBOX1',\n",
              " 'BBS12',\n",
              " 'BBS4',\n",
              " 'BBS7',\n",
              " 'BCAN',\n",
              " 'BCAR1',\n",
              " 'BCAS2',\n",
              " 'BCHE',\n",
              " 'BCKDHB',\n",
              " 'BCL10',\n",
              " 'BCL11A',\n",
              " 'BCL11B',\n",
              " 'BCL2',\n",
              " 'BCL2A1',\n",
              " 'BCL2L1',\n",
              " 'BCL2L11',\n",
              " 'BCL2L12',\n",
              " 'BCL2L2',\n",
              " 'BCL3',\n",
              " 'BCL6',\n",
              " 'BCL6B',\n",
              " 'BCL7A',\n",
              " 'BCL9',\n",
              " 'BCLAF1',\n",
              " 'BCO1',\n",
              " 'BCOR',\n",
              " 'BCORL1',\n",
              " 'BCR',\n",
              " 'BDKRB1',\n",
              " 'BDP1',\n",
              " 'BEND2',\n",
              " 'BEND3',\n",
              " 'BEST4',\n",
              " 'BEX1',\n",
              " 'BEX2',\n",
              " 'BEX5',\n",
              " 'BFAR',\n",
              " 'BFSP2',\n",
              " 'BGN',\n",
              " 'BHLHE22',\n",
              " 'BHMT',\n",
              " 'BICD2',\n",
              " 'BID',\n",
              " 'BIN1',\n",
              " 'BIN2',\n",
              " 'BIRC2',\n",
              " 'BIRC3',\n",
              " 'BIRC6',\n",
              " 'BIRC7',\n",
              " 'BIRC8',\n",
              " 'BLID',\n",
              " 'BLM',\n",
              " 'BLVRB',\n",
              " 'BMP10',\n",
              " 'BMP15',\n",
              " 'BMP6',\n",
              " 'BMP8A',\n",
              " 'BMPER',\n",
              " 'BMPR1A',\n",
              " 'BMS1',\n",
              " 'BMX',\n",
              " 'BNC1',\n",
              " 'BNC2',\n",
              " 'BNIPL',\n",
              " 'BOD1',\n",
              " 'BOD1L1',\n",
              " 'BORA',\n",
              " 'BPIFA1',\n",
              " 'BPIFA2',\n",
              " 'BPIFB2',\n",
              " 'BPIFB3',\n",
              " 'BPIFB4',\n",
              " 'BPIFB6',\n",
              " 'BPIFC',\n",
              " 'BPNT1',\n",
              " 'BPTF',\n",
              " 'BRAF',\n",
              " 'BRCA1',\n",
              " 'BRCA2',\n",
              " 'BRCC3',\n",
              " 'BRD1',\n",
              " 'BRD3',\n",
              " 'BRD4',\n",
              " 'BRD7',\n",
              " 'BRD8',\n",
              " 'BRD9',\n",
              " 'BRDT',\n",
              " 'BRINP1',\n",
              " 'BRINP2',\n",
              " 'BRINP3',\n",
              " 'BRIP1',\n",
              " 'BRIX1',\n",
              " 'BRK1',\n",
              " 'BRPF1',\n",
              " 'BRS3',\n",
              " 'BRSK1',\n",
              " 'BRSK2',\n",
              " 'BRWD3',\n",
              " 'BSG',\n",
              " 'BSN',\n",
              " 'BST1',\n",
              " 'BST2',\n",
              " 'BSX',\n",
              " 'BTBD10',\n",
              " 'BTBD11',\n",
              " 'BTBD16',\n",
              " 'BTBD17',\n",
              " 'BTBD7',\n",
              " 'BTG1',\n",
              " 'BTG2',\n",
              " 'BTG3',\n",
              " 'BTK',\n",
              " 'BTLA',\n",
              " 'BTN1A1',\n",
              " 'BTNL2',\n",
              " 'BTNL3',\n",
              " 'BTNL8',\n",
              " 'BTNL9',\n",
              " 'BUB1B',\n",
              " 'BUD13',\n",
              " 'BZRAP1',\n",
              " 'C10ORF113',\n",
              " 'C10ORF12',\n",
              " 'C10ORF120',\n",
              " 'C10ORF35',\n",
              " 'C10ORF90',\n",
              " 'C10ORF95',\n",
              " 'C11ORF40',\n",
              " 'C11ORF42',\n",
              " 'C11ORF53',\n",
              " 'C11ORF63',\n",
              " 'C11ORF74',\n",
              " 'C11ORF80',\n",
              " 'C11ORF87',\n",
              " 'C11ORF94',\n",
              " 'C12ORF40',\n",
              " 'C12ORF43',\n",
              " 'C12ORF45',\n",
              " 'C12ORF57',\n",
              " 'C12ORF65',\n",
              " 'C12ORF71',\n",
              " 'C14ORF177',\n",
              " 'C14ORF180',\n",
              " 'C14ORF39',\n",
              " 'C15ORF48',\n",
              " 'C15ORF65',\n",
              " 'C16ORF45',\n",
              " 'C16ORF78',\n",
              " 'C16ORF89',\n",
              " 'C16ORF90',\n",
              " 'C16ORF91',\n",
              " 'C16ORF96',\n",
              " 'C17ORF47',\n",
              " 'C17ORF50',\n",
              " 'C17ORF64',\n",
              " 'C17ORF74',\n",
              " 'C17ORF75',\n",
              " 'C17ORF78',\n",
              " 'C17ORF82',\n",
              " 'C17ORF96',\n",
              " 'C17ORF97',\n",
              " 'C17ORF98',\n",
              " 'C18ORF8',\n",
              " 'C19ORF18',\n",
              " 'C19ORF24',\n",
              " 'C19ORF33',\n",
              " 'C19ORF35',\n",
              " 'C19ORF48',\n",
              " 'C19ORF52',\n",
              " 'C19ORF53',\n",
              " 'C19ORF70',\n",
              " 'C1GALT1C1',\n",
              " 'C1ORF100',\n",
              " 'C1ORF106',\n",
              " 'C1ORF146',\n",
              " 'C1ORF167',\n",
              " 'C1ORF189',\n",
              " 'C1ORF194',\n",
              " 'C1ORF43',\n",
              " 'C1ORF53',\n",
              " 'C1ORF54',\n",
              " 'C1ORF68',\n",
              " 'C1ORF74',\n",
              " 'C1ORF94',\n",
              " 'C1QA',\n",
              " 'C1QB',\n",
              " 'C1QBP',\n",
              " 'C1QL1',\n",
              " 'C1QL2',\n",
              " 'C1QTNF5',\n",
              " 'C1QTNF9',\n",
              " 'C1QTNF9B',\n",
              " 'C1S',\n",
              " 'C2',\n",
              " 'C20ORF144',\n",
              " 'C20ORF173',\n",
              " 'C20ORF195',\n",
              " 'C20ORF78',\n",
              " 'C20ORF85',\n",
              " 'C22ORF23',\n",
              " 'C2CD4B',\n",
              " 'C2ORF16',\n",
              " 'C2ORF44',\n",
              " 'C2ORF47',\n",
              " 'C2ORF50',\n",
              " 'C2ORF54',\n",
              " 'C2ORF57',\n",
              " 'C2ORF78',\n",
              " 'C2ORF80',\n",
              " 'C2ORF81',\n",
              " 'C3',\n",
              " 'C3AR1',\n",
              " 'C3ORF20',\n",
              " 'C3ORF22',\n",
              " 'C3ORF30',\n",
              " 'C3ORF38',\n",
              " 'C3ORF58',\n",
              " 'C3ORF70',\n",
              " 'C3ORF79',\n",
              " 'C4BPA',\n",
              " 'C4ORF19',\n",
              " 'C4ORF27',\n",
              " 'C4ORF32',\n",
              " 'C4ORF45',\n",
              " 'C4ORF47',\n",
              " 'C4ORF51',\n",
              " 'C5',\n",
              " 'C5AR1',\n",
              " 'C5AR2',\n",
              " 'C5ORF34',\n",
              " 'C5ORF52',\n",
              " 'C5ORF60',\n",
              " 'C6',\n",
              " 'C6ORF10',\n",
              " 'C6ORF118',\n",
              " 'C6ORF15',\n",
              " 'C6ORF222',\n",
              " 'C6ORF58',\n",
              " 'C6ORF89',\n",
              " 'C7',\n",
              " 'C7ORF25',\n",
              " 'C7ORF26',\n",
              " 'C7ORF33',\n",
              " 'C7ORF34',\n",
              " 'C7ORF49',\n",
              " 'C7ORF50',\n",
              " 'C7ORF57',\n",
              " 'C7ORF60',\n",
              " 'C7ORF62',\n",
              " 'C7ORF66',\n",
              " 'C7ORF72',\n",
              " 'C8A',\n",
              " 'C8B',\n",
              " 'C8G',\n",
              " 'C8ORF31',\n",
              " 'C8ORF48',\n",
              " 'C9',\n",
              " 'C9ORF116',\n",
              " 'C9ORF131',\n",
              " 'C9ORF135',\n",
              " 'C9ORF173',\n",
              " 'C9ORF43',\n",
              " 'C9ORF50',\n",
              " 'C9ORF62',\n",
              " 'C9ORF66',\n",
              " 'C9ORF92',\n",
              " 'CA13',\n",
              " 'CA14',\n",
              " 'CA2',\n",
              " 'CA4',\n",
              " 'CA9',\n",
              " 'CABLES1',\n",
              " 'CABP2',\n",
              " 'CABP5',\n",
              " 'CABS1',\n",
              " 'CACHD1',\n",
              " 'CACNA1A',\n",
              " 'CACNA1B',\n",
              " 'CACNA1C',\n",
              " 'CACNA1D',\n",
              " 'CACNA1E',\n",
              " 'CACNA1F',\n",
              " 'CACNA1G',\n",
              " 'CACNA1H',\n",
              " 'CACNA1S',\n",
              " 'CACNA2D1',\n",
              " 'CACNA2D2',\n",
              " 'CACNA2D3',\n",
              " 'CACNA2D4',\n",
              " 'CACNG1',\n",
              " 'CACNG2',\n",
              " 'CACNG3',\n",
              " 'CACNG5',\n",
              " 'CACNG6',\n",
              " 'CACUL1',\n",
              " 'CAD',\n",
              " 'CADM1',\n",
              " 'CADM2',\n",
              " 'CADPS',\n",
              " 'CALB2',\n",
              " 'CALCOCO1',\n",
              " 'CALCR',\n",
              " 'CALHM2',\n",
              " 'CALHM3',\n",
              " 'CALN1',\n",
              " 'CALR',\n",
              " 'CALR3',\n",
              " 'CAMK1',\n",
              " 'CAMLG',\n",
              " 'CAMP',\n",
              " 'CAMSAP1',\n",
              " 'CAMSAP3',\n",
              " 'CAMTA1',\n",
              " 'CAMTA2',\n",
              " 'CAND2',\n",
              " 'CANT1',\n",
              " 'CANX',\n",
              " 'CAP1',\n",
              " 'CAPG',\n",
              " 'CAPN11',\n",
              " 'CAPN13',\n",
              " 'CAPN6',\n",
              " 'CAPN9',\n",
              " 'CAPNS2',\n",
              " 'CAPRIN2',\n",
              " 'CAPSL',\n",
              " 'CAPZA3',\n",
              " 'CARD10',\n",
              " 'CARD11',\n",
              " 'CARD16',\n",
              " 'CARD17',\n",
              " 'CARD6',\n",
              " 'CARS',\n",
              " 'CASC1',\n",
              " 'CASC5',\n",
              " 'CASP10',\n",
              " 'CASP3',\n",
              " 'CASP4',\n",
              " 'CASP5',\n",
              " 'CASP6',\n",
              " 'CASP7',\n",
              " 'CASP8',\n",
              " 'CASP9',\n",
              " 'CASQ2',\n",
              " 'CASR',\n",
              " 'CASS4',\n",
              " 'CASZ1',\n",
              " 'CATIP',\n",
              " 'CATSPER1',\n",
              " 'CATSPER3',\n",
              " 'CATSPER4',\n",
              " 'CATSPERB',\n",
              " 'CATSPERD',\n",
              " 'CATSPERG',\n",
              " 'CBFA2T3',\n",
              " 'CBFB',\n",
              " 'CBL',\n",
              " 'CBLB',\n",
              " 'CBLC',\n",
              " 'CBLL1',\n",
              " 'CBLN4',\n",
              " 'CBWD1',\n",
              " 'CBX3',\n",
              " 'CBX4',\n",
              " 'CBX7',\n",
              " 'CCAR1',\n",
              " 'CCBL2',\n",
              " 'CCDC102A',\n",
              " 'CCDC105',\n",
              " 'CCDC107',\n",
              " 'CCDC110',\n",
              " 'CCDC116',\n",
              " 'CCDC129',\n",
              " 'CCDC134',\n",
              " 'CCDC136',\n",
              " 'CCDC144NL',\n",
              " 'CCDC146',\n",
              " 'CCDC151',\n",
              " 'CCDC153',\n",
              " 'CCDC154',\n",
              " 'CCDC160',\n",
              " 'CCDC170',\n",
              " 'CCDC172',\n",
              " 'CCDC173',\n",
              " 'CCDC178',\n",
              " 'CCDC18',\n",
              " 'CCDC181',\n",
              " 'CCDC185',\n",
              " 'CCDC27',\n",
              " 'CCDC28A',\n",
              " 'CCDC39',\n",
              " 'CCDC42',\n",
              " 'CCDC53',\n",
              " 'CCDC54',\n",
              " 'CCDC6',\n",
              " 'CCDC60',\n",
              " 'CCDC63',\n",
              " 'CCDC64',\n",
              " 'CCDC67',\n",
              " 'CCDC7',\n",
              " 'CCDC70',\n",
              " 'CCDC73',\n",
              " 'CCDC74A',\n",
              " 'CCDC74B',\n",
              " 'CCDC80',\n",
              " 'CCDC83',\n",
              " 'CCDC85A',\n",
              " 'CCDC87',\n",
              " 'CCDC89',\n",
              " 'CCDC91',\n",
              " 'CCDC94',\n",
              " 'CCDC96',\n",
              " 'CCDC97',\n",
              " 'CCER1',\n",
              " 'CCIN',\n",
              " 'CCKAR',\n",
              " 'CCKBR',\n",
              " 'CCL1',\n",
              " 'CCL23',\n",
              " 'CCL24',\n",
              " 'CCL27',\n",
              " 'CCNA1',\n",
              " 'CCNB1',\n",
              " 'CCNB1IP1',\n",
              " 'CCNB2',\n",
              " 'CCNB3',\n",
              " 'CCND1',\n",
              " 'CCND2',\n",
              " 'CCND3',\n",
              " 'CCNE1',\n",
              " 'CCNK',\n",
              " ...]"
            ]
          },
          "metadata": {
            "tags": []
          },
          "execution_count": 9
        }
      ]
    },
    {
      "cell_type": "code",
      "metadata": {
        "colab": {
          "base_uri": "https://localhost:8080/"
        },
        "id": "Lub7MGisTtLI",
        "outputId": "05d1abf7-985f-435c-ae37-6e57d3e7aee9"
      },
      "source": [
        "data.shape"
      ],
      "execution_count": null,
      "outputs": [
        {
          "output_type": "execute_result",
          "data": {
            "text/plain": [
              "(6640, 7674)"
            ]
          },
          "metadata": {
            "tags": []
          },
          "execution_count": 10
        }
      ]
    },
    {
      "cell_type": "code",
      "metadata": {
        "id": "2S4SQRzGTtLI"
      },
      "source": [
        "X = data.loc[:, data.columns != target]\n",
        "Y = data.loc[:, data.columns == target]"
      ],
      "execution_count": null,
      "outputs": []
    },
    {
      "cell_type": "code",
      "metadata": {
        "colab": {
          "base_uri": "https://localhost:8080/"
        },
        "id": "q17xgdSjTtLJ",
        "outputId": "7766f180-286b-4106-eae7-a85b6a42c6e5"
      },
      "source": [
        "X.shape"
      ],
      "execution_count": null,
      "outputs": [
        {
          "output_type": "execute_result",
          "data": {
            "text/plain": [
              "(6640, 7673)"
            ]
          },
          "metadata": {
            "tags": []
          },
          "execution_count": 12
        }
      ]
    },
    {
      "cell_type": "code",
      "metadata": {
        "id": "XejcDhkwTtLJ"
      },
      "source": [
        "Y = Y.values.ravel()"
      ],
      "execution_count": null,
      "outputs": []
    },
    {
      "cell_type": "markdown",
      "metadata": {
        "id": "Z_q8acxF4C6I"
      },
      "source": [
        "# **2. Splitting of dataset**"
      ]
    },
    {
      "cell_type": "code",
      "metadata": {
        "id": "v6CK3BMITtLJ"
      },
      "source": [
        "x_train, x_test, y_train, y_test = train_test_split(X, Y, \n",
        "                                                    test_size=0.33, \n",
        "                                                    random_state=8)"
      ],
      "execution_count": null,
      "outputs": []
    },
    {
      "cell_type": "markdown",
      "metadata": {
        "id": "tNTXSMUQ4b7S"
      },
      "source": [
        "# **3. Training**"
      ]
    },
    {
      "cell_type": "code",
      "metadata": {
        "id": "vMonxpb3TtLJ"
      },
      "source": [
        "\n",
        "clf_lr = LogisticRegression()      \n",
        "lr_baseline_model = clf_lr.fit(x_train,y_train)"
      ],
      "execution_count": null,
      "outputs": []
    },
    {
      "cell_type": "code",
      "metadata": {
        "colab": {
          "base_uri": "https://localhost:8080/"
        },
        "id": "8f08JBDHTtLK",
        "outputId": "237df42c-fb3a-45b3-dbc1-f1ff70885492"
      },
      "source": [
        "ac = accuracy_score(y_test,lr_baseline_model.predict(x_test))\n",
        "print(ac)\n",
        "#from sklearn.metrics import precision_score, recall_score\n",
        "#precision_score(y_train, y_test, average='micro')\n"
      ],
      "execution_count": null,
      "outputs": [
        {
          "output_type": "stream",
          "text": [
            "0.5766423357664233\n"
          ],
          "name": "stdout"
        }
      ]
    },
    {
      "cell_type": "markdown",
      "metadata": {
        "id": "67GgXMWK45ib"
      },
      "source": [
        "# **4. Feature Selection**"
      ]
    },
    {
      "cell_type": "code",
      "metadata": {
        "colab": {
          "base_uri": "https://localhost:8080/"
        },
        "id": "IA8HUTEiTtLK",
        "outputId": "f4d3e617-bd2c-4c70-f1e6-c47fb4065ccf"
      },
      "source": [
        "rfecv = RFECV(estimator=clf_lr, step=100, cv=3, scoring='accuracy')\n",
        "rfecv = rfecv.fit(x_train, y_train)\n",
        "print('Optimal number of features :', rfecv.n_features_)\n",
        "print('Best features :', x_train.columns[rfecv.support_])"
      ],
      "execution_count": null,
      "outputs": [
        {
          "output_type": "stream",
          "text": [
            "Optimal number of features : 4073\n",
            "Best features : Index(['A1CF', 'A2M', 'A2ML1', 'AADACL4', 'AARS', 'AARS2', 'AASDH', 'AATF',\n",
            "       'AATK', 'ABCA1',\n",
            "       ...\n",
            "       'ZSCAN1', 'ZSCAN10', 'ZSCAN20', 'ZSCAN5B', 'ZSWIM2', 'ZSWIM8', 'ZW10',\n",
            "       'ZXDA', 'ZXDB', 'ZZEF1'],\n",
            "      dtype='object', length=4073)\n"
          ],
          "name": "stdout"
        }
      ]
    },
    {
      "cell_type": "code",
      "metadata": {
        "colab": {
          "base_uri": "https://localhost:8080/"
        },
        "id": "dh1ettmM0Ud3",
        "outputId": "ceaf48af-fef6-4cdf-9621-ec36bb6b6a53"
      },
      "source": [
        "rfecv.n_features_\n",
        "len(rfecv.grid_scores_)\n",
        "print(len(rfecv.ranking_))"
      ],
      "execution_count": null,
      "outputs": [
        {
          "output_type": "stream",
          "text": [
            "7673\n"
          ],
          "name": "stdout"
        }
      ]
    },
    {
      "cell_type": "code",
      "metadata": {
        "id": "8UJlHYe3xwtd"
      },
      "source": [
        "x_train_rfecv = rfecv.transform(x_train)\n",
        "x_test_rfecv = rfecv.transform(x_test)"
      ],
      "execution_count": null,
      "outputs": []
    },
    {
      "cell_type": "code",
      "metadata": {
        "colab": {
          "base_uri": "https://localhost:8080/"
        },
        "id": "q5JtfSCy7Ew9",
        "outputId": "72b8276a-61a1-490e-e25d-a091b61219dd"
      },
      "source": [
        "type(x_train_rfecv)"
      ],
      "execution_count": null,
      "outputs": [
        {
          "output_type": "execute_result",
          "data": {
            "text/plain": [
              "numpy.ndarray"
            ]
          },
          "metadata": {
            "tags": []
          },
          "execution_count": 49
        }
      ]
    },
    {
      "cell_type": "markdown",
      "metadata": {
        "id": "htH7QMZG5Ekt"
      },
      "source": [
        "# **5. Training**"
      ]
    },
    {
      "cell_type": "code",
      "metadata": {
        "id": "M3JYOHGWx13o"
      },
      "source": [
        "lr_rfecv_model = clf_lr.fit(x_train_rfecv, y_train)"
      ],
      "execution_count": null,
      "outputs": []
    },
    {
      "cell_type": "code",
      "metadata": {
        "colab": {
          "base_uri": "https://localhost:8080/"
        },
        "id": "6SSE6x56x6ZG",
        "outputId": "adda92b6-d964-4f74-e0a8-f6aa5c71ec59"
      },
      "source": [
        "ac = accuracy_score(y_test,lr_rfecv_model.predict(x_test_rfecv))\n",
        "ac"
      ],
      "execution_count": null,
      "outputs": [
        {
          "output_type": "execute_result",
          "data": {
            "text/plain": [
              "0.5761861313868614"
            ]
          },
          "metadata": {
            "tags": []
          },
          "execution_count": 22
        }
      ]
    },
    {
      "cell_type": "code",
      "metadata": {
        "colab": {
          "base_uri": "https://localhost:8080/"
        },
        "id": "FbjRaZ-SyCLU",
        "outputId": "aecdc1f8-7a09-465f-c5ce-fe7ea0396334"
      },
      "source": [
        "x_train.columns[rfecv.support_]"
      ],
      "execution_count": null,
      "outputs": [
        {
          "output_type": "execute_result",
          "data": {
            "text/plain": [
              "Index(['A1CF', 'A2M', 'A2ML1', 'AADACL4', 'AARS', 'AARS2', 'AASDH', 'AATF',\n",
              "       'AATK', 'ABCA1',\n",
              "       ...\n",
              "       'ZSCAN1', 'ZSCAN10', 'ZSCAN20', 'ZSCAN5B', 'ZSWIM2', 'ZSWIM8', 'ZW10',\n",
              "       'ZXDA', 'ZXDB', 'ZZEF1'],\n",
              "      dtype='object', length=4073)"
            ]
          },
          "metadata": {
            "tags": []
          },
          "execution_count": 23
        }
      ]
    },
    {
      "cell_type": "code",
      "metadata": {
        "id": "AsQyZVRjAzGi"
      },
      "source": [
        ""
      ],
      "execution_count": null,
      "outputs": []
    },
    {
      "cell_type": "code",
      "metadata": {
        "id": "AV7OfI-myXYV"
      },
      "source": [
        "DF = pd.DataFrame(x_train.columns[rfecv.support_])"
      ],
      "execution_count": null,
      "outputs": []
    },
    {
      "cell_type": "code",
      "metadata": {
        "id": "U8O9xWaj_xeD"
      },
      "source": [
        "selectedx_train = pd.DataFrame(x_train_rfecv, columns=x_train.columns[rfecv.support_] )\n",
        "selectedx_train\n",
        "selectedx_train.to_csv('Xtraintransform.csv')\n",
        "!cp Xtraintransform.csv \"drive/My Drive/Madonna\""
      ],
      "execution_count": null,
      "outputs": []
    },
    {
      "cell_type": "code",
      "metadata": {
        "id": "WKzGS6n3B6V3"
      },
      "source": [
        "selectedy_train = pd.DataFrame(y_train )\n",
        "selectedy_train\n",
        "selectedy_train.to_csv('Ytrain.csv')\n",
        "!cp Ytrain.csv \"drive/My Drive/Madonna\""
      ],
      "execution_count": null,
      "outputs": []
    },
    {
      "cell_type": "code",
      "metadata": {
        "colab": {
          "base_uri": "https://localhost:8080/",
          "height": 419
        },
        "id": "hK5D1LvUD4jV",
        "outputId": "1e24cd84-be14-435c-d4b6-79a64064cd64"
      },
      "source": [
        "selectedy_train"
      ],
      "execution_count": null,
      "outputs": [
        {
          "output_type": "execute_result",
          "data": {
            "text/html": [
              "<div>\n",
              "<style scoped>\n",
              "    .dataframe tbody tr th:only-of-type {\n",
              "        vertical-align: middle;\n",
              "    }\n",
              "\n",
              "    .dataframe tbody tr th {\n",
              "        vertical-align: top;\n",
              "    }\n",
              "\n",
              "    .dataframe thead th {\n",
              "        text-align: right;\n",
              "    }\n",
              "</style>\n",
              "<table border=\"1\" class=\"dataframe\">\n",
              "  <thead>\n",
              "    <tr style=\"text-align: right;\">\n",
              "      <th></th>\n",
              "      <th>0</th>\n",
              "    </tr>\n",
              "  </thead>\n",
              "  <tbody>\n",
              "    <tr>\n",
              "      <th>0</th>\n",
              "      <td>15</td>\n",
              "    </tr>\n",
              "    <tr>\n",
              "      <th>1</th>\n",
              "      <td>2</td>\n",
              "    </tr>\n",
              "    <tr>\n",
              "      <th>2</th>\n",
              "      <td>5</td>\n",
              "    </tr>\n",
              "    <tr>\n",
              "      <th>3</th>\n",
              "      <td>10</td>\n",
              "    </tr>\n",
              "    <tr>\n",
              "      <th>4</th>\n",
              "      <td>23</td>\n",
              "    </tr>\n",
              "    <tr>\n",
              "      <th>...</th>\n",
              "      <td>...</td>\n",
              "    </tr>\n",
              "    <tr>\n",
              "      <th>4443</th>\n",
              "      <td>6</td>\n",
              "    </tr>\n",
              "    <tr>\n",
              "      <th>4444</th>\n",
              "      <td>7</td>\n",
              "    </tr>\n",
              "    <tr>\n",
              "      <th>4445</th>\n",
              "      <td>6</td>\n",
              "    </tr>\n",
              "    <tr>\n",
              "      <th>4446</th>\n",
              "      <td>4</td>\n",
              "    </tr>\n",
              "    <tr>\n",
              "      <th>4447</th>\n",
              "      <td>18</td>\n",
              "    </tr>\n",
              "  </tbody>\n",
              "</table>\n",
              "<p>4448 rows × 1 columns</p>\n",
              "</div>"
            ],
            "text/plain": [
              "       0\n",
              "0     15\n",
              "1      2\n",
              "2      5\n",
              "3     10\n",
              "4     23\n",
              "...   ..\n",
              "4443   6\n",
              "4444   7\n",
              "4445   6\n",
              "4446   4\n",
              "4447  18\n",
              "\n",
              "[4448 rows x 1 columns]"
            ]
          },
          "metadata": {
            "tags": []
          },
          "execution_count": 58
        }
      ]
    },
    {
      "cell_type": "code",
      "metadata": {
        "colab": {
          "base_uri": "https://localhost:8080/"
        },
        "id": "LE4z07gOxOBm",
        "outputId": "348c0626-12d1-46c5-cd02-cbb0c06b8ea6"
      },
      "source": [
        "from google.colab import drive\n",
        "drive.mount('drive')"
      ],
      "execution_count": null,
      "outputs": [
        {
          "output_type": "stream",
          "text": [
            "Drive already mounted at drive; to attempt to forcibly remount, call drive.mount(\"drive\", force_remount=True).\n"
          ],
          "name": "stdout"
        }
      ]
    },
    {
      "cell_type": "code",
      "metadata": {
        "id": "A2Y5f85CxSB4"
      },
      "source": [
        "DF.to_csv('data_log57.csv')\n",
        "!cp data_log57.csv \"drive/My Drive/Madonna\""
      ],
      "execution_count": null,
      "outputs": []
    }
  ]
}